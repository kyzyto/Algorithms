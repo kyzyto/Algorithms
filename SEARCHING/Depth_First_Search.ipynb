{
 "cells": [
  {
   "cell_type": "markdown",
   "id": "f4a1a3de",
   "metadata": {},
   "source": [
    "# Depth First Search"
   ]
  },
  {
   "cell_type": "code",
   "execution_count": 1,
   "id": "ed14dbd5",
   "metadata": {},
   "outputs": [],
   "source": [
    "graph = {\n",
    "    'A': ['B', 'C'],\n",
    "    'B': ['D', 'E'],\n",
    "    'C': ['F'],\n",
    "    'D': [],\n",
    "    'E': ['F'],\n",
    "    'F': []\n",
    "}"
   ]
  },
  {
   "cell_type": "code",
   "execution_count": 6,
   "id": "679e2d17",
   "metadata": {},
   "outputs": [],
   "source": [
    "visited = set() # List to keep track of visited nodes\n",
    "queue = [] # Initialize"
   ]
  },
  {
   "cell_type": "code",
   "execution_count": 7,
   "id": "077bda00",
   "metadata": {},
   "outputs": [],
   "source": [
    "def depthFirstSearch(v, g, node):\n",
    "    if node not in visited:\n",
    "        print(node)\n",
    "        visited.add(node)\n",
    "        for neighbour in graph[node]:\n",
    "            depthFirstSearch(visited, graph, neighbour)"
   ]
  },
  {
   "cell_type": "code",
   "execution_count": 8,
   "id": "bd168b2c",
   "metadata": {},
   "outputs": [
    {
     "name": "stdout",
     "output_type": "stream",
     "text": [
      "A\n",
      "B\n",
      "D\n",
      "E\n",
      "F\n",
      "C\n"
     ]
    }
   ],
   "source": [
    "result = depthFirstSearch(visited, graph, 'A')"
   ]
  },
  {
   "cell_type": "code",
   "execution_count": 9,
   "id": "a1c4773a",
   "metadata": {},
   "outputs": [
    {
     "name": "stdout",
     "output_type": "stream",
     "text": [
      "Element is present at graph\n"
     ]
    }
   ],
   "source": [
    "if result != -1:\n",
    "    print(\"Element is present at graph\")\n",
    "else:\n",
    "    print(\"Element is not present in graph\")"
   ]
  },
  {
   "cell_type": "markdown",
   "id": "c3a2ad25",
   "metadata": {},
   "source": [
    "**Time Complexity:** O(V + E) \n",
    "\n",
    "where; \n",
    "* V is number of nodes <br>\n",
    "* E is the number of edges"
   ]
  }
 ],
 "metadata": {
  "kernelspec": {
   "display_name": "Python 3 (ipykernel)",
   "language": "python",
   "name": "python3"
  },
  "language_info": {
   "codemirror_mode": {
    "name": "ipython",
    "version": 3
   },
   "file_extension": ".py",
   "mimetype": "text/x-python",
   "name": "python",
   "nbconvert_exporter": "python",
   "pygments_lexer": "ipython3",
   "version": "3.8.8"
  }
 },
 "nbformat": 4,
 "nbformat_minor": 5
}
