{
 "cells": [
  {
   "cell_type": "markdown",
   "id": "78e5e861",
   "metadata": {},
   "source": [
    "# Breadth First Search"
   ]
  },
  {
   "cell_type": "code",
   "execution_count": 1,
   "id": "3eb301f1",
   "metadata": {},
   "outputs": [],
   "source": [
    "graph = {\n",
    "    'A': ['B', 'C'],\n",
    "    'B': ['D', 'E'],\n",
    "    'C': ['F'],\n",
    "    'D': [],\n",
    "    'E': ['F'],\n",
    "    'F': []\n",
    "}"
   ]
  },
  {
   "cell_type": "code",
   "execution_count": 2,
   "id": "7737b982",
   "metadata": {},
   "outputs": [],
   "source": [
    "visited = [] # List to keep track of visited nodes\n",
    "queue = [] # Initialize"
   ]
  },
  {
   "cell_type": "markdown",
   "id": "7717a492",
   "metadata": {},
   "source": [
    "v: visited<br>\n",
    "g: graph"
   ]
  },
  {
   "cell_type": "code",
   "execution_count": 3,
   "id": "b8d48f93",
   "metadata": {},
   "outputs": [],
   "source": [
    "def breadthFirstSearch(v, g, node):\n",
    "    visited.append(node)\n",
    "    queue.append(node)\n",
    "    \n",
    "    while queue:\n",
    "        s = queue.pop(0)\n",
    "        print(s, end = \" \")\n",
    "        \n",
    "        for neighbour in graph[s]:\n",
    "            if neighbour not in visited:\n",
    "                visited.append(neighbour)\n",
    "                queue.append(neighbour)\n",
    "                "
   ]
  },
  {
   "cell_type": "code",
   "execution_count": 4,
   "id": "3a3ef487",
   "metadata": {},
   "outputs": [
    {
     "name": "stdout",
     "output_type": "stream",
     "text": [
      "A B C D E F "
     ]
    }
   ],
   "source": [
    "result = breadthFirstSearch(visited, graph, 'A')"
   ]
  },
  {
   "cell_type": "code",
   "execution_count": 8,
   "id": "9ceb493b",
   "metadata": {},
   "outputs": [
    {
     "name": "stdout",
     "output_type": "stream",
     "text": [
      "Element is present at index \n"
     ]
    }
   ],
   "source": [
    "if result != -1:\n",
    "    print(\"Element is present at graph\")\n",
    "else:\n",
    "    print(\"Element is not present in graph\")"
   ]
  },
  {
   "cell_type": "markdown",
   "id": "0ff75a3e",
   "metadata": {},
   "source": [
    "**Time Complexity:** O(V + E) \n",
    "\n",
    "where; \n",
    "* V is number of vertices <br>\n",
    "* E is the number of edges"
   ]
  }
 ],
 "metadata": {
  "kernelspec": {
   "display_name": "Python 3 (ipykernel)",
   "language": "python",
   "name": "python3"
  },
  "language_info": {
   "codemirror_mode": {
    "name": "ipython",
    "version": 3
   },
   "file_extension": ".py",
   "mimetype": "text/x-python",
   "name": "python",
   "nbconvert_exporter": "python",
   "pygments_lexer": "ipython3",
   "version": "3.8.8"
  }
 },
 "nbformat": 4,
 "nbformat_minor": 5
}
