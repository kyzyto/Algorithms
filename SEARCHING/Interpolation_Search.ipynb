{
 "cells": [
  {
   "cell_type": "markdown",
   "id": "5d40693d",
   "metadata": {},
   "source": [
    "# Interpolation Search"
   ]
  },
  {
   "cell_type": "markdown",
   "id": "401f190e",
   "metadata": {},
   "source": [
    "```\n",
    "pos = lo + [ (x-arr[lo])*(hi-lo) / (arr[hi]-arr[lo]) ]\n",
    "\n",
    "arr[] ==> Array where elements need to be searched\n",
    "x     ==> Element to be searched\n",
    "lo    ==> Starting index in arr[]\n",
    "hi    ==> Ending index in arr[]\n",
    "```"
   ]
  },
  {
   "cell_type": "code",
   "execution_count": 1,
   "id": "9cef0578",
   "metadata": {},
   "outputs": [],
   "source": [
    "def interpolationSearch(arr, lo, hi, x):\n",
    "    if (lo <= hi and x >= arr[lo] and x <= arr[hi]):\n",
    "        \n",
    "        pos = lo + (hi - lo) // (arr[hi] - arr[lo]) * (x - arr[lo])\n",
    "        \n",
    "        if arr[pos] == x:\n",
    "            return pos\n",
    "        \n",
    "        elif arr[pos] < x:\n",
    "            return interpolationSearch(arr, pos + 1, hi, x)\n",
    "        \n",
    "        else:\n",
    "            return interpolationSearch(arr, lo, pos - 1, x)\n",
    "    return -1"
   ]
  },
  {
   "cell_type": "code",
   "execution_count": 2,
   "id": "08dc7209",
   "metadata": {},
   "outputs": [],
   "source": [
    "arr = [2, 3, 5, 7, 9, 10, 11, 14, 15, 15, 16, 23]\n",
    "x = 11\n",
    "n = len(arr) -1"
   ]
  },
  {
   "cell_type": "code",
   "execution_count": 3,
   "id": "55883086",
   "metadata": {},
   "outputs": [],
   "source": [
    "result = interpolationSearch(arr, 0, n, x)"
   ]
  },
  {
   "cell_type": "code",
   "execution_count": 4,
   "id": "a9eb4fc5",
   "metadata": {},
   "outputs": [
    {
     "name": "stdout",
     "output_type": "stream",
     "text": [
      "Element is present at index  6\n"
     ]
    }
   ],
   "source": [
    "if result != -1:\n",
    "    print(\"Element is present at index % d\" % result)\n",
    "else:\n",
    "    print(\"Element is not present in array\")"
   ]
  },
  {
   "cell_type": "markdown",
   "id": "482089d8",
   "metadata": {},
   "source": [
    "Interpolation Search is an improved version of binary search<br>\n",
    "\n",
    "**Time Complexity:** O(log n)"
   ]
  }
 ],
 "metadata": {
  "kernelspec": {
   "display_name": "Python 3 (ipykernel)",
   "language": "python",
   "name": "python3"
  },
  "language_info": {
   "codemirror_mode": {
    "name": "ipython",
    "version": 3
   },
   "file_extension": ".py",
   "mimetype": "text/x-python",
   "name": "python",
   "nbconvert_exporter": "python",
   "pygments_lexer": "ipython3",
   "version": "3.8.8"
  }
 },
 "nbformat": 4,
 "nbformat_minor": 5
}
