{
 "cells": [
  {
   "cell_type": "markdown",
   "id": "38c5d28c",
   "metadata": {},
   "source": [
    "# Linear Search\n",
    "\n",
    "arr: array<br>\n",
    "x: element"
   ]
  },
  {
   "cell_type": "code",
   "execution_count": 10,
   "id": "2173d3f6",
   "metadata": {},
   "outputs": [],
   "source": [
    "def linearSearch(arr, x):\n",
    "    for i in range(len(arr)):\n",
    "        if arr[i] == x:\n",
    "            return i\n",
    "    return -1"
   ]
  },
  {
   "cell_type": "code",
   "execution_count": 13,
   "id": "29ea8f10",
   "metadata": {},
   "outputs": [],
   "source": [
    "arr = ['t', 'r', 'u', 'j']\n",
    "x = 'j'"
   ]
  },
  {
   "cell_type": "code",
   "execution_count": null,
   "id": "0655bf7a",
   "metadata": {},
   "outputs": [],
   "source": [
    "result = linearSearch(arr,x)"
   ]
  },
  {
   "cell_type": "code",
   "execution_count": 14,
   "id": "91544ac8",
   "metadata": {},
   "outputs": [
    {
     "name": "stdout",
     "output_type": "stream",
     "text": [
      "Element is present at index  3\n"
     ]
    }
   ],
   "source": [
    "if result != -1:\n",
    "    print(\"Element is present at index % d\" % result)\n",
    "else:\n",
    "    print(\"Element is not present in array\")"
   ]
  },
  {
   "cell_type": "markdown",
   "id": "7ca16bc6",
   "metadata": {},
   "source": [
    "**Time Complexity:** O(n)\n",
    "\n",
    "**Space Complexity:** O(1)"
   ]
  }
 ],
 "metadata": {
  "kernelspec": {
   "display_name": "Python 3 (ipykernel)",
   "language": "python",
   "name": "python3"
  },
  "language_info": {
   "codemirror_mode": {
    "name": "ipython",
    "version": 3
   },
   "file_extension": ".py",
   "mimetype": "text/x-python",
   "name": "python",
   "nbconvert_exporter": "python",
   "pygments_lexer": "ipython3",
   "version": "3.8.8"
  }
 },
 "nbformat": 4,
 "nbformat_minor": 5
}
