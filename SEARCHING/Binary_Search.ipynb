{
 "cells": [
  {
   "cell_type": "markdown",
   "id": "187bfb3a",
   "metadata": {},
   "source": [
    "# Binary Search\n",
    "\n",
    "arr : array<br>\n",
    "x : element<br>\n",
    "s : start<br>\n",
    "e : end"
   ]
  },
  {
   "cell_type": "code",
   "execution_count": 29,
   "id": "b094f604",
   "metadata": {},
   "outputs": [],
   "source": [
    "def binarySearch(arr, x, s, e):\n",
    "    # Check base case\n",
    "    if e >= s:\n",
    "        mid = s + (e - s) // 2\n",
    "        \n",
    "        # Is element present in middle?\n",
    "        if arr[mid] == x:\n",
    "            return mid\n",
    "        \n",
    "        # If element smaller than middle, Is element present in left subarray\n",
    "        elif arr[mid] > x:\n",
    "            return binarySearch(arr, x, s, mid - 1)\n",
    "        \n",
    "        # Else element, Is element present in right subarray\n",
    "        else:\n",
    "            return binarySearch(arr, x, mid + 1, e)\n",
    "    else:\n",
    "        # Element is not present in the array\n",
    "        return -1"
   ]
  },
  {
   "cell_type": "code",
   "execution_count": 30,
   "id": "cbda2b93",
   "metadata": {},
   "outputs": [],
   "source": [
    "arr = [2, 3, 4, 5, 40]\n",
    "x = 5"
   ]
  },
  {
   "cell_type": "code",
   "execution_count": 31,
   "id": "f8446bd9",
   "metadata": {},
   "outputs": [],
   "source": [
    "result = binarySearch(arr, x, 0, len(arr)-1)"
   ]
  },
  {
   "cell_type": "code",
   "execution_count": 32,
   "id": "f051d7f0",
   "metadata": {},
   "outputs": [
    {
     "name": "stdout",
     "output_type": "stream",
     "text": [
      "Element is present at index  3\n"
     ]
    }
   ],
   "source": [
    "if result != -1:\n",
    "    print(\"Element is present at index % d\" % result)\n",
    "else:\n",
    "    print(\"Element is not present in array\")"
   ]
  },
  {
   "cell_type": "markdown",
   "id": "4dba6715",
   "metadata": {},
   "source": [
    "**Time Complexity:** O(log n)\n",
    "\n",
    "T(n) = T(n/2) + c "
   ]
  }
 ],
 "metadata": {
  "kernelspec": {
   "display_name": "Python 3 (ipykernel)",
   "language": "python",
   "name": "python3"
  },
  "language_info": {
   "codemirror_mode": {
    "name": "ipython",
    "version": 3
   },
   "file_extension": ".py",
   "mimetype": "text/x-python",
   "name": "python",
   "nbconvert_exporter": "python",
   "pygments_lexer": "ipython3",
   "version": "3.8.8"
  }
 },
 "nbformat": 4,
 "nbformat_minor": 5
}
