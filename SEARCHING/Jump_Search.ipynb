{
 "cells": [
  {
   "cell_type": "markdown",
   "id": "0fc49c11",
   "metadata": {},
   "source": [
    "# Jump Search\n",
    "\n",
    "arr: array<br>\n",
    "x: element<br>\n",
    "n: jumper"
   ]
  },
  {
   "cell_type": "code",
   "execution_count": 1,
   "id": "f2fe744f",
   "metadata": {},
   "outputs": [],
   "source": [
    "import math"
   ]
  },
  {
   "cell_type": "code",
   "execution_count": 6,
   "id": "303cd5a7",
   "metadata": {},
   "outputs": [],
   "source": [
    "def jumpSearch(arr, x, n):\n",
    "    \n",
    "    #finding block size to be jumped\n",
    "    step = math.sqrt(n)\n",
    "    \n",
    "    #finding block where element is present if it is present\n",
    "    prev = 0\n",
    "    while arr[int(min(step, n) - 1)] < x:\n",
    "        prev = step\n",
    "        step += math.sqrt(n)\n",
    "        if prev >= n:\n",
    "            return -1\n",
    "    \n",
    "    #doing a linear search for x in block beginning with prev\n",
    "    while arr[int(prev)] < x:\n",
    "        prev += 1\n",
    "        \n",
    "        #element not present if we reach end\n",
    "        if prev == min(step, n):\n",
    "            return -1\n",
    "        \n",
    "    #if element is found\n",
    "    if arr[int(prev)] == x:\n",
    "        return prev\n",
    "    return -1\n"
   ]
  },
  {
   "cell_type": "code",
   "execution_count": 11,
   "id": "18d540a5",
   "metadata": {},
   "outputs": [],
   "source": [
    "#array has to be sorted\n",
    "arr = [0, 1, 2, 3, 4, 5, 6, 7, 8, 9, 10]\n",
    "x = 1\n",
    "n = len(arr)"
   ]
  },
  {
   "cell_type": "code",
   "execution_count": 12,
   "id": "9ec4d3d6",
   "metadata": {},
   "outputs": [],
   "source": [
    "result = jumpSearch(arr, x, n)"
   ]
  },
  {
   "cell_type": "code",
   "execution_count": 13,
   "id": "a2ea76b0",
   "metadata": {},
   "outputs": [
    {
     "name": "stdout",
     "output_type": "stream",
     "text": [
      "Element is present at index  1\n"
     ]
    }
   ],
   "source": [
    "if result != -1:\n",
    "    print(\"Element is present at index % d\" % result)\n",
    "else:\n",
    "    print(\"Element is not present in array\")"
   ]
  },
  {
   "cell_type": "markdown",
   "id": "6330b0c2",
   "metadata": {},
   "source": [
    "**Time Complexity:** O(√n)\n",
    "\n",
    "**Space Complexity:** O(1)"
   ]
  },
  {
   "cell_type": "code",
   "execution_count": 5,
   "id": "71a566c0",
   "metadata": {},
   "outputs": [
    {
     "name": "stdout",
     "output_type": "stream",
     "text": [
      "1\n",
      "3.0\n",
      "3\n"
     ]
    }
   ],
   "source": [
    "print(min(1,5))\n",
    "print(math.sqrt(9))\n",
    "print(int(math.sqrt(9)))"
   ]
  }
 ],
 "metadata": {
  "kernelspec": {
   "display_name": "Python 3 (ipykernel)",
   "language": "python",
   "name": "python3"
  },
  "language_info": {
   "codemirror_mode": {
    "name": "ipython",
    "version": 3
   },
   "file_extension": ".py",
   "mimetype": "text/x-python",
   "name": "python",
   "nbconvert_exporter": "python",
   "pygments_lexer": "ipython3",
   "version": "3.8.8"
  }
 },
 "nbformat": 4,
 "nbformat_minor": 5
}
