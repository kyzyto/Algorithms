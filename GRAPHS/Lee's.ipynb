{
 "cells": [
  {
   "cell_type": "markdown",
   "id": "8e7cc26c",
   "metadata": {},
   "source": [
    "# Lee's Algorithm"
   ]
  },
  {
   "cell_type": "code",
   "execution_count": 1,
   "id": "1474e62f",
   "metadata": {},
   "outputs": [],
   "source": [
    "import sys\n",
    "from collections import deque"
   ]
  },
  {
   "cell_type": "code",
   "execution_count": 2,
   "id": "006c4233",
   "metadata": {},
   "outputs": [],
   "source": [
    "# Below lists detail all four possible movements from a cell\n",
    "\n",
    "row = [-1, 0, 0, 1]\n",
    "col = [0, -1, 1, 0]\n",
    "\n",
    "# Function to check if it is possible to go to position (row, col) from the current position. The function\n",
    "# returns false if row, col is not a valid position or has a value 0 or already visited\n",
    "\n",
    "def isValid(mat, visited, row, col):\n",
    "    return (row >= 0) and (row < len(mat)) and (col >= 0) and (col < len(mat[0])) and mat[row][col] == 1 and not visited[row][col]  "
   ]
  },
  {
   "cell_type": "code",
   "execution_count": 3,
   "id": "a62dddb5",
   "metadata": {},
   "outputs": [],
   "source": [
    "# Find the shortest possible route in a matrix 'mat' from source 'src' to destination 'dest'\n",
    "def findShortestPathLength(mat, src, dest): \n",
    "    # get source cell (i, j)\n",
    "    i, j = src\n",
    "    \n",
    "    # get destination cell (x, y)\n",
    "    x, y = dest\n",
    "    \n",
    "    # base case: invalid input\n",
    "    if not mat or len(mat) == 0 or mat[i][j] == 0 or mat[x][y] == 0:\n",
    "        return -1\n",
    "    \n",
    "    # 'M × N' matrix\n",
    "    (M, N) = (len(mat), len(mat[0]))\n",
    "    \n",
    "    # Contruct a matrix to keep track of visited cells\n",
    "    visited = [[False for x in range(N)] for y in range(M)]\n",
    "    \n",
    "    # create an empty queue\n",
    "    q = deque()\n",
    "    \n",
    "    # mark the source cell as visited and enqueue the source node\n",
    "    visited[i][j] = True\n",
    "    \n",
    "    #(i, j, dist) represents matrix cell coordinates, and their minimum distance from the source\n",
    "    q.append((i, j, 0))\n",
    "    \n",
    "    # stores length of the longest path from source to destination\n",
    "    min_dist = sys.maxsize\n",
    "    \n",
    "    # loop till queue is empty\n",
    "    while q:\n",
    "        \n",
    "        # dequeue front node and process it\n",
    "        (i, j, dist) = q.popleft()\n",
    "        \n",
    "        # (i, j) represents a current cell, and 'dist' stores its minimum distance from the source\n",
    "        if i == x and j == y:\n",
    "            min_dist = dist\n",
    "            break\n",
    "        \n",
    "        # check for all four possible movements from the current cell and enqueue each valid movement\n",
    "        for k in range(4):\n",
    "            # check if it is possible to go to position (i + row[k], j + col[k]) from current position\n",
    "            if isValid(mat, visited, i + row[k], j + col[k]):\n",
    "                # mark next cell as visited and enqueue it\n",
    "                visited[i + row[k]][j + col[k]] = True\n",
    "                q.append((i + row[k], j + col[k], dist + 1))\n",
    "    if min_dist != sys.maxsize:\n",
    "        return min_dist\n",
    "    else:\n",
    "        return -1"
   ]
  },
  {
   "cell_type": "code",
   "execution_count": 4,
   "id": "f2de7628",
   "metadata": {},
   "outputs": [
    {
     "name": "stdout",
     "output_type": "stream",
     "text": [
      "The shortest path from source to destination has length 12\n"
     ]
    }
   ],
   "source": [
    "if __name__ == '__main__':\n",
    "    mat = [\n",
    "        [1, 1, 1, 1, 1, 0, 0, 1, 1, 1],\n",
    "        [0, 1, 1, 1, 1, 1, 0, 1, 0, 1],\n",
    "        [0, 0, 1, 0, 1, 1, 1, 0, 0, 1],\n",
    "        [1, 0, 1, 1, 1, 0, 1, 1, 0, 1],\n",
    "        [0, 0, 0, 1, 0, 0, 0, 1, 0, 1],\n",
    "        [1, 0, 1, 1, 1, 0, 0, 1, 1, 0],\n",
    "        [0, 0, 0, 0, 1, 0, 0, 1, 0, 1],\n",
    "        [0, 1, 1, 1, 1, 1, 1, 1, 0, 0],\n",
    "        [1, 1, 1, 1, 1, 0, 0, 1, 1, 1],\n",
    "        [0, 0, 1, 0, 0, 1, 1, 0, 0, 1]\n",
    "    ]\n",
    "    \n",
    "    src = (0, 0)\n",
    "    dest = (7, 5)\n",
    "    \n",
    "    min_dist = findShortestPathLength(mat, src, dest)\n",
    "    \n",
    "    if min_dist != -1:\n",
    "        print(\"The shortest path from source to destination has length\", min_dist)\n",
    "    else:\n",
    "        print(\"Destination cannot be reached from source\")"
   ]
  },
  {
   "cell_type": "markdown",
   "id": "41c04c51",
   "metadata": {},
   "source": [
    "**Time Complexity:** O(M × N) \n",
    "\n",
    "where M and N are rows and columns\n",
    "\n",
    "**Space Complexity:** O(M × N) "
   ]
  }
 ],
 "metadata": {
  "kernelspec": {
   "display_name": "Python 3 (ipykernel)",
   "language": "python",
   "name": "python3"
  },
  "language_info": {
   "codemirror_mode": {
    "name": "ipython",
    "version": 3
   },
   "file_extension": ".py",
   "mimetype": "text/x-python",
   "name": "python",
   "nbconvert_exporter": "python",
   "pygments_lexer": "ipython3",
   "version": "3.8.8"
  }
 },
 "nbformat": 4,
 "nbformat_minor": 5
}
