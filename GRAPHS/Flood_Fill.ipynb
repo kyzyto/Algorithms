{
 "cells": [
  {
   "cell_type": "markdown",
   "id": "244279cf",
   "metadata": {},
   "source": [
    "# Flood Fill's Algorithm"
   ]
  },
  {
   "cell_type": "code",
   "execution_count": 1,
   "id": "227eb99a",
   "metadata": {},
   "outputs": [],
   "source": [
    "M = 8\n",
    "N = 8\n",
    "\n",
    "# A recursive function to replace previous color 'prevC' at '(x,y)' and all surrounding\n",
    "# pixels of (x, y) with new color 'newC' and\n",
    "\n",
    "def floodFillUtil(screen, x, y, prevC, newC):\n",
    "    \n",
    "    #Base cases\n",
    "    if (x < 0 or x >= M or \n",
    "        y < 0 or y >= N or \n",
    "        screen[x][y] != prevC or screen[x][y] == newC):\n",
    "        return\n",
    "    \n",
    "    # Replace the color at (x, y)\n",
    "    screen[x][y] = newC\n",
    "    \n",
    "    # Recur for north, east, south and west\n",
    "    floodFillUtil(screen, x + 1, y, prevC, newC)\n",
    "    floodFillUtil(screen, x - 1, y, prevC, newC)\n",
    "    floodFillUtil(screen, x, y + 1, prevC, newC)\n",
    "    floodFillUtil(screen, x, y - 1, prevC, newC)\n",
    "    \n",
    "\n",
    "# It mainly finds the previous color on (x, y) and calls floodFillUtil()\n",
    "def floodFill(screen, x, y, newC):\n",
    "    prevC = screen[x][y]\n",
    "    if(prevC == newC):\n",
    "        return\n",
    "    floodFillUtil(screen, x, y, prevC, newC)\n",
    "    \n",
    "\n",
    "# Driver Code\n",
    "screen = [[1, 1, 1, 1, 1, 1, 1, 1],\n",
    "          [1, 1, 1, 1, 1, 1, 0, 0], \n",
    "          [1, 0, 0, 1, 1, 0, 1, 1], \n",
    "          [1, 2, 2, 2, 2, 0, 1, 0], \n",
    "          [1, 1, 1, 2, 2, 0, 1, 0],\n",
    "          [1, 1, 1, 2, 2, 2, 2, 0], \n",
    "          [1, 1, 1, 1, 1, 2, 1, 1], \n",
    "          [1, 1, 1, 1, 1, 2, 2, 1]]"
   ]
  },
  {
   "cell_type": "code",
   "execution_count": 2,
   "id": "3b59287b",
   "metadata": {},
   "outputs": [
    {
     "name": "stdout",
     "output_type": "stream",
     "text": [
      "Updated screen after call to floodFill:\n",
      "1 1 1 1 1 1 1 1 \n",
      "1 1 1 1 1 1 0 0 \n",
      "1 0 0 1 1 0 1 1 \n",
      "1 3 3 3 3 0 1 0 \n",
      "1 1 1 3 3 0 1 0 \n",
      "1 1 1 3 3 3 3 0 \n",
      "1 1 1 1 1 3 1 1 \n",
      "1 1 1 1 1 3 3 1 \n"
     ]
    }
   ],
   "source": [
    "x = 4\n",
    "y = 4\n",
    "newC = 3\n",
    "floodFill(screen, x, y, newC)\n",
    "\n",
    "print(\"Updated screen after call to floodFill:\")\n",
    "for i in range(M):\n",
    "    for j in range(N):\n",
    "        print(screen[i][j], end = ' ')\n",
    "    print()"
   ]
  },
  {
   "cell_type": "markdown",
   "id": "bcef2022",
   "metadata": {},
   "source": [
    "**Time Complexity:** O(M * N)\n",
    "\n",
    "where M & N are rows and columns\n",
    "\n",
    "**Space Complexity:** O(M * N)"
   ]
  }
 ],
 "metadata": {
  "kernelspec": {
   "display_name": "Python 3 (ipykernel)",
   "language": "python",
   "name": "python3"
  },
  "language_info": {
   "codemirror_mode": {
    "name": "ipython",
    "version": 3
   },
   "file_extension": ".py",
   "mimetype": "text/x-python",
   "name": "python",
   "nbconvert_exporter": "python",
   "pygments_lexer": "ipython3",
   "version": "3.8.8"
  }
 },
 "nbformat": 4,
 "nbformat_minor": 5
}
