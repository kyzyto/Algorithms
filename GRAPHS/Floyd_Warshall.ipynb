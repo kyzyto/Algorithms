{
 "cells": [
  {
   "cell_type": "markdown",
   "id": "7ade2283",
   "metadata": {},
   "source": [
    "# Floyd-Warshall Algorthm\n",
    "Floyd-Warshall Algorithm is an algorithm for finding the shortest path between all the pairs of vertices in a weighted graph.<br>\n",
    "\n",
    "This algorithm works for both the directed and undirected weighted graphs. But, it does not work for the graphs with negative cycles(where the sum of the edges in cyle is negative)\n",
    "\n",
    "Alias;\n",
    "- Roy-Floyd Algorithm\n",
    "- Roy-Warshall Algorithm\n",
    "- Floyd's Algorithm\n",
    "- WFI algorithm\n",
    "\n",
    "### Floyd-Warshall Application\n",
    "* To find the shortest path is a directed graph\n",
    "* To find the transitive closure of directed graphs\n",
    "* To find the Inversion of real matrices\n",
    "* For testing whether an undirected graph is bipartite\n",
    "\n",
    "### Floyd-Warshall Pseudo code\n",
    "```python\n",
    "n = no of vertices\n",
    "A = matrix of dimension n*n\n",
    "\n",
    "for k = 1 to n\n",
    "    for i = 1 to n\n",
    "        for j = 1 to n\n",
    "            #Ak[i, j] = min (Ak-1[i, j], Ak-1[i, k] + Ak-1[k, j])\n",
    "            pow(A, k)[i, j] = min (pow(A, k-1)[i, j], pow(A, k-1)[i, k] + pow(A, k-1)[k, j])\n",
    "return A\n",
    "```"
   ]
  },
  {
   "cell_type": "code",
   "execution_count": 3,
   "id": "4b74a513",
   "metadata": {},
   "outputs": [],
   "source": [
    "nV = 4 #Number of vertices\n",
    "\n",
    "INF = 999\n",
    "\n",
    "def print_solution(distance):\n",
    "    for i in range(nV):\n",
    "        for j in range(nV):\n",
    "            if(distance[i][j] == INF):\n",
    "                print(\"INF\", end=\" \")\n",
    "            else:\n",
    "                print(distance[i][j], end=\" \")\n",
    "        print(\" \")\n",
    "\n",
    "        \n",
    "\n",
    "def floyd_warshall(G):\n",
    "    # map i (map j with i) with G\n",
    "    distance = list(map(lambda i: list(map(lambda j: j, i)), G))\n",
    "    \n",
    "    #Adding vertices individually\n",
    "    for k in range(nV):\n",
    "        for i in range(nV):\n",
    "            for j in range(nV):\n",
    "                distance[i][j] = min(distance[i][j], distance[i][k] + distance[k][j])\n",
    "    print_solution(distance)"
   ]
  },
  {
   "cell_type": "code",
   "execution_count": 4,
   "id": "c4c29518",
   "metadata": {},
   "outputs": [
    {
     "name": "stdout",
     "output_type": "stream",
     "text": [
      "0 3 7 5  \n",
      "2 0 6 4  \n",
      "3 1 0 5  \n",
      "5 3 2 0  \n"
     ]
    }
   ],
   "source": [
    "G = [[0, 3, INF, 5], \n",
    "     [2, 0, INF, 4], \n",
    "     [INF, 1, 0, INF], \n",
    "     [INF, INF, 2, 0]]\n",
    "floyd_warshall(G)"
   ]
  },
  {
   "cell_type": "markdown",
   "id": "e4cca4db",
   "metadata": {},
   "source": [
    "**Time Complexity:** O(n^3)\n",
    "\n",
    "**Space Complexity:** O(n^2)"
   ]
  }
 ],
 "metadata": {
  "kernelspec": {
   "display_name": "Python 3 (ipykernel)",
   "language": "python",
   "name": "python3"
  },
  "language_info": {
   "codemirror_mode": {
    "name": "ipython",
    "version": 3
   },
   "file_extension": ".py",
   "mimetype": "text/x-python",
   "name": "python",
   "nbconvert_exporter": "python",
   "pygments_lexer": "ipython3",
   "version": "3.8.8"
  }
 },
 "nbformat": 4,
 "nbformat_minor": 5
}
