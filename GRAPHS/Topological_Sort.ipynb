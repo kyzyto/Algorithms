{
 "cells": [
  {
   "cell_type": "markdown",
   "id": "57a158eb",
   "metadata": {},
   "source": [
    "# Topological Sort Algorithm"
   ]
  },
  {
   "cell_type": "code",
   "execution_count": 1,
   "id": "3d99373d",
   "metadata": {},
   "outputs": [],
   "source": [
    "from collections import defaultdict"
   ]
  },
  {
   "cell_type": "code",
   "execution_count": 3,
   "id": "db810a4a",
   "metadata": {},
   "outputs": [
    {
     "name": "stdout",
     "output_type": "stream",
     "text": [
      "Following is a Topological Sort of the given graph\n",
      "[5, 4, 2, 3, 1, 0]\n"
     ]
    }
   ],
   "source": [
    "class Graph:\n",
    "    def __init__(self, vertices):\n",
    "        self.graph = defaultdict(list) #dictionary containing adjacent List\n",
    "        self.V  = vertices #No. of vertices\n",
    "    \n",
    "    # Function to add an edge to graph\n",
    "    def addEdge(self, u, v):\n",
    "        self.graph[u].append(v)\n",
    "    \n",
    "    # A recursive function used by topologicalSort\n",
    "    def topologicalSortUtil(self, v, visited, stack):\n",
    "        \n",
    "        #Mark the current node as visited\n",
    "        visited[v] = True\n",
    "        \n",
    "        # Recur for all the vertices adjacent to this vertex\n",
    "        for i in self.graph[v]:\n",
    "            if visited[i] == False:\n",
    "                self.topologicalSortUtil(i, visited, stack)\n",
    "        \n",
    "        # Push current vertex to stack which stores result\n",
    "        stack.insert(0, v)\n",
    "        \n",
    "    def topologicalSort(self):\n",
    "        # Mark all the vertices as not visited \n",
    "        visited = [False]*self.V\n",
    "        stack = []\n",
    "        \n",
    "        # Call the recursive helper function to store Topological\n",
    "        for i in range(self.V):\n",
    "            if visited[i] == False:\n",
    "                self.topologicalSortUtil(i, visited, stack)\n",
    "        #Print contents of stack\n",
    "        print(stack)\n",
    "\n",
    "g = Graph(6)\n",
    "\n",
    "g.addEdge(5, 2);\n",
    "g.addEdge(5, 0);\n",
    "g.addEdge(4, 0);\n",
    "g.addEdge(4, 1);\n",
    "g.addEdge(2, 3);\n",
    "g.addEdge(3, 1);\n",
    "\n",
    "print(\"Following is a Topological Sort of the given graph\")\n",
    "g.topologicalSort()"
   ]
  },
  {
   "cell_type": "markdown",
   "id": "c4e2c312",
   "metadata": {},
   "source": [
    "**Time Complexity:** O(V + E)\n",
    "\n",
    "**Space Complexity:** O(V)"
   ]
  }
 ],
 "metadata": {
  "kernelspec": {
   "display_name": "Python 3 (ipykernel)",
   "language": "python",
   "name": "python3"
  },
  "language_info": {
   "codemirror_mode": {
    "name": "ipython",
    "version": 3
   },
   "file_extension": ".py",
   "mimetype": "text/x-python",
   "name": "python",
   "nbconvert_exporter": "python",
   "pygments_lexer": "ipython3",
   "version": "3.8.8"
  }
 },
 "nbformat": 4,
 "nbformat_minor": 5
}
