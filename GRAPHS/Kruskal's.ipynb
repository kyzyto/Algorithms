{
 "cells": [
  {
   "cell_type": "markdown",
   "id": "7b1b67c5",
   "metadata": {},
   "source": [
    "# Kruskal's\n",
    "Kruskal's algorithm is a minium spanning tree algorithm that takes a graph as input and finds the subset of the edges of that graph which\n",
    "- form a tree that includes every vertex\n",
    "- has the minimum sum of weights among all the trees that can be formed from the graph\n",
    "\n",
    "### Kruskal's Applications\n",
    "* In order to layout electrical wiring\n",
    "* In computer network(LAN connection)\n",
    "\n",
    "\n",
    "### Pseudo code\n",
    "\n",
    "\n",
    "```python\n",
    "KRUSKAL(G):\n",
    "A = ∅\n",
    "For each vertex v ∈ G.V:\n",
    "    MAKE-SET(v)\n",
    "For each edge (u, v) ∈ G.E ordered by increasing order by weight(u, v):\n",
    "    if FIND-SET(u) ≠ FIND-SET(v):       \n",
    "    A = A ∪ {(u, v)}\n",
    "    UNION(u, v)\n",
    "return A\n",
    "```"
   ]
  },
  {
   "cell_type": "code",
   "execution_count": 1,
   "id": "2021f839",
   "metadata": {},
   "outputs": [],
   "source": [
    "class Graph:\n",
    "    def __init__(self, vertices):\n",
    "        self.V = vertices\n",
    "        self.graph = []\n",
    "        \n",
    "    def add_edge(self, u, v, w):\n",
    "        self.graph.append([u, v, w])\n",
    "        \n",
    "    # Search function\n",
    "    \n",
    "    def find(self, parent, i):\n",
    "        if parent[i] == i:\n",
    "            return i\n",
    "        return self.find(parent, parent[i])\n",
    "    \n",
    "    def apply_union(self, parent, rank, x, y):\n",
    "        xroot = self.find(parent, x)\n",
    "        yroot = self.find(parent, y)\n",
    "        \n",
    "        if rank[xroot] < rank[yroot]:\n",
    "            parent[xroot] = yroot\n",
    "        elif rank[xroot] > rank[yroot]:\n",
    "            parent[yroot] = xroot\n",
    "        else:\n",
    "            parent[yroot] = xroot\n",
    "            rank[xroot] += 1\n",
    "    \n",
    "    # Applying Kruskal algorithm\n",
    "    \n",
    "    def kruskal_algo(self):\n",
    "        result = []\n",
    "        i, e = 0, 0\n",
    "        self.graph = sorted(self.graph, key=lambda item: item[2])\n",
    "        parent = []\n",
    "        rank = []\n",
    "\n",
    "        for node in range(self.V):\n",
    "            parent.append(node)\n",
    "            rank.append(0)\n",
    "            \n",
    "        while e < self.V - 1:\n",
    "            u, v, w = self.graph[i]\n",
    "            i = i + 1\n",
    "            x = self.find(parent, u)\n",
    "            y = self.find(parent, v)\n",
    "            if x != y:\n",
    "                e = e + 1\n",
    "                result.append([u, v, w])\n",
    "                self.apply_union(parent, rank, x, y)\n",
    "                \n",
    "        for u, v, weight in result:\n",
    "            print(\"%d - %d: %d\" % (u, v, weight))"
   ]
  },
  {
   "cell_type": "code",
   "execution_count": 2,
   "id": "44df7778",
   "metadata": {},
   "outputs": [
    {
     "name": "stdout",
     "output_type": "stream",
     "text": [
      "1 - 2: 2\n",
      "2 - 5: 2\n",
      "2 - 3: 3\n",
      "3 - 4: 3\n",
      "0 - 1: 4\n"
     ]
    }
   ],
   "source": [
    "g = Graph(6)\n",
    "g.add_edge(0, 1, 4)\n",
    "g.add_edge(0, 2, 4)\n",
    "g.add_edge(1, 2, 2)\n",
    "g.add_edge(1, 0, 4)\n",
    "g.add_edge(2, 0, 4)\n",
    "g.add_edge(2, 1, 2)\n",
    "g.add_edge(2, 3, 3)\n",
    "g.add_edge(2, 5, 2)\n",
    "g.add_edge(2, 4, 4)\n",
    "g.add_edge(3, 2, 3)\n",
    "g.add_edge(3, 4, 3)\n",
    "g.add_edge(4, 2, 4)\n",
    "g.add_edge(4, 3, 3)\n",
    "g.add_edge(5, 2, 2)\n",
    "g.add_edge(5, 4, 3)\n",
    "g.kruskal_algo()"
   ]
  },
  {
   "cell_type": "markdown",
   "id": "155dd0fe",
   "metadata": {},
   "source": [
    "**Time Complexity:** O(E log E)\n",
    "\n",
    "**Space Complexity:** O(1)"
   ]
  }
 ],
 "metadata": {
  "kernelspec": {
   "display_name": "Python 3 (ipykernel)",
   "language": "python",
   "name": "python3"
  },
  "language_info": {
   "codemirror_mode": {
    "name": "ipython",
    "version": 3
   },
   "file_extension": ".py",
   "mimetype": "text/x-python",
   "name": "python",
   "nbconvert_exporter": "python",
   "pygments_lexer": "ipython3",
   "version": "3.8.8"
  }
 },
 "nbformat": 4,
 "nbformat_minor": 5
}
