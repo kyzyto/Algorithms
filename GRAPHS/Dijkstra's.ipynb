{
 "cells": [
  {
   "cell_type": "markdown",
   "id": "5fe4aa7c",
   "metadata": {},
   "source": [
    "# Dijkstra's\n",
    "Dijkstra's algorithm allows us to find the shortest path between any two vertices of a graph. It differs from the minimum spanning tree because the shortest distance between two vertices might not include all the vertices of the graph.\n",
    "\n",
    "### Dijkstra's Application\n",
    "* To find the shortest path\n",
    "* In social networking applications\n",
    "* In a telephone network\n",
    "* To find the locations in the map\n",
    "\n",
    "\n",
    "### Pseudo code\n",
    "```python\n",
    "function dijkstra(G, S)\n",
    "    for each vertex V in G\n",
    "        distance[V] <- infinite\n",
    "        previous[V] <- NULL\n",
    "        If V != S, add V to Priority Queue Q\n",
    "    distance[S] <- 0\n",
    "\t\n",
    "    while Q IS NOT EMPTY\n",
    "        U <- Extract MIN from Q\n",
    "        for each unvisited neighbour V of U\n",
    "            tempDistance <- distance[U] + edge_weight(U, V)\n",
    "            if tempDistance < distance[V]\n",
    "                distance[V] <- tempDistance\n",
    "                previous[V] <- U\n",
    "    return distance[], previous[]\n",
    "```"
   ]
  },
  {
   "cell_type": "code",
   "execution_count": 1,
   "id": "e5e8bb93",
   "metadata": {},
   "outputs": [],
   "source": [
    "import sys"
   ]
  },
  {
   "cell_type": "code",
   "execution_count": 2,
   "id": "f895547b",
   "metadata": {},
   "outputs": [],
   "source": [
    "# Providing the graph\n",
    "vertices = [[0, 0, 1, 1, 0, 0, 0], [0, 0, 1, 0, 0, 1, 0], [1, 1, 0, 1, 1, 0, 0], [1, 0, 1, 0, 0, 0, 1],\n",
    "           [0, 0, 1, 0, 0, 1, 0], [0, 1, 0, 0, 1, 0, 1], [0, 0, 0, 1, 0, 1, 0]]\n",
    "\n",
    "edges = [[0, 0, 1, 2, 0, 0, 0], [0, 0, 2, 0, 0, 3, 0], [1, 2, 0, 1, 3, 0, 0], [2, 0, 1, 0, 0, 0, 1],\n",
    "        [0, 0, 3, 0, 0, 2, 0], [0, 3, 0, 0, 2, 0, 1], [0, 0, 0, 1, 0, 1, 0]]"
   ]
  },
  {
   "cell_type": "code",
   "execution_count": 3,
   "id": "356ac59d",
   "metadata": {},
   "outputs": [],
   "source": [
    "def to_be_visited():\n",
    "    global visited_and_distance\n",
    "    \n",
    "    v = -10\n",
    "    \n",
    "    for index in range(num_of_vertices):\n",
    "        if visited_and_distance[index][0] == 0 and (v < 0 or visited_and_distance[index][1] <= visited_and_distance[v][1]):\n",
    "            v = index\n",
    "    return v"
   ]
  },
  {
   "cell_type": "code",
   "execution_count": 4,
   "id": "30c76a12",
   "metadata": {},
   "outputs": [],
   "source": [
    "num_of_vertices = len(vertices[0])\n",
    "\n",
    "visited_and_distance = [[0, 0]]\n",
    "\n",
    "for i in range(num_of_vertices - 1):\n",
    "    visited_and_distance.append([0, sys.maxsize])\n",
    "    \n",
    "for vertex in range(num_of_vertices):\n",
    "    \n",
    "    # Find next vertex to be visited\n",
    "    to_visit = to_be_visited()\n",
    "    \n",
    "    for neighbor_index in range(num_of_vertices):\n",
    "        \n",
    "        # Updating new distances\n",
    "        if vertices[to_visit][neighbor_index] == 1 and visited_and_distance[neighbor_index][0] ==0:\n",
    "            new_distance = visited_and_distance[to_visit][1] + edges[to_visit][neighbor_index]\n",
    "            \n",
    "            if visited_and_distance[neighbor_index][1] > new_distance:\n",
    "                visited_and_distance[neighbor_index][1] = new_distance\n",
    "            \n",
    "        visited_and_distance[to_visit][0] = 1"
   ]
  },
  {
   "cell_type": "code",
   "execution_count": 5,
   "id": "3c1b7125",
   "metadata": {},
   "outputs": [
    {
     "name": "stdout",
     "output_type": "stream",
     "text": [
      "Distance of  b  from source vertex:  0\n",
      "Distance of  b  from source vertex:  3\n",
      "Distance of  b  from source vertex:  1\n",
      "Distance of  b  from source vertex:  2\n",
      "Distance of  b  from source vertex:  4\n",
      "Distance of  b  from source vertex:  4\n",
      "Distance of  b  from source vertex:  3\n"
     ]
    }
   ],
   "source": [
    "# Printing the distance\n",
    "for distance in visited_and_distance:\n",
    "    print(\"Distance of \", chr(ord('a') + 1), \" from source vertex: \", distance[1])\n",
    "    i = i + 1"
   ]
  },
  {
   "cell_type": "markdown",
   "id": "144631dd",
   "metadata": {},
   "source": [
    "**Time Complexity:** O(E log V)\n",
    "\n",
    "**Space Complexity:** O(V)"
   ]
  }
 ],
 "metadata": {
  "kernelspec": {
   "display_name": "Python 3 (ipykernel)",
   "language": "python",
   "name": "python3"
  },
  "language_info": {
   "codemirror_mode": {
    "name": "ipython",
    "version": 3
   },
   "file_extension": ".py",
   "mimetype": "text/x-python",
   "name": "python",
   "nbconvert_exporter": "python",
   "pygments_lexer": "ipython3",
   "version": "3.8.8"
  }
 },
 "nbformat": 4,
 "nbformat_minor": 5
}
