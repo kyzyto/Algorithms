{
 "cells": [
  {
   "cell_type": "markdown",
   "id": "6ffe25dd",
   "metadata": {},
   "source": [
    "# Bellman Ford-Fulkerson's\n",
    "\n",
    "Ford-Fulkerson's algorithm is a [```greedy approach```](https://www.programiz.com/dsa/greedy-algorithm) for calculating maximum possible flow in a network or a graph\n",
    "\n",
    "### Ford-Fulkerson Application\n",
    "* Water Distribution pipeline\n",
    "* Bipartite matching problem\n",
    "* Circulation with demands"
   ]
  },
  {
   "cell_type": "code",
   "execution_count": 1,
   "id": "6ba6ee6e",
   "metadata": {},
   "outputs": [],
   "source": [
    "from collections import defaultdict"
   ]
  },
  {
   "cell_type": "code",
   "execution_count": 2,
   "id": "23aa9e35",
   "metadata": {},
   "outputs": [],
   "source": [
    "class Graph:\n",
    "    \n",
    "    def __init__(self, graph):\n",
    "        self.graph = graph\n",
    "        self.ROW = len(graph)\n",
    "    \n",
    "    \n",
    "    def searching_algo_BFS(self, s, t, parent):\n",
    "        visited = [False] * (self.ROW)\n",
    "        queue = []\n",
    "        \n",
    "        queue.append(s)\n",
    "        visited[s] = True\n",
    "        \n",
    "        while queue:\n",
    "            \n",
    "            u = queue.pop(0)\n",
    "            \n",
    "            for ind, val in enumerate(self.graph[u]):\n",
    "                if visited[ind] == False and val > 0:\n",
    "                    queue.append(ind)\n",
    "                    visited[ind] = True\n",
    "                    parent[ind] = u\n",
    "                    \n",
    "        return True if visited[t] else False\n",
    "    \n",
    "    # Applying Bellman Ford Fulkerson algorithm\n",
    "    \n",
    "    def fordFulkerson(self, source, sink):\n",
    "        parent = [-1] * (self.ROW)\n",
    "        max_flow = 0\n",
    "        \n",
    "        while self.searching_algo_BFS(source, sink, parent):\n",
    "            \n",
    "            path_flow = float(\"Inf\")\n",
    "            s = sink\n",
    "            \n",
    "            while(s != source):\n",
    "                path_flow = min(path_flow, self.graph[parent[s]][s])\n",
    "                s = parent[s]\n",
    "                \n",
    "            max_flow += path_flow\n",
    "            \n",
    "            # Updating the residual value of edges\n",
    "            v = sink\n",
    "            \n",
    "            while(v != source):\n",
    "                u = parent[v]\n",
    "                self.graph[u][v] -= path_flow\n",
    "                self.graph[v][u] += path_flow\n",
    "                v = parent[v]\n",
    "                \n",
    "        return max_flow"
   ]
  },
  {
   "cell_type": "code",
   "execution_count": 3,
   "id": "740e1f24",
   "metadata": {},
   "outputs": [],
   "source": [
    "graph = [[0, 8, 0, 0, 3, 0], [0, 0, 9, 0, 0, 0], [0, 0, 0, 0, 7, 2],\n",
    "         [0, 0, 0, 0, 0, 5], [0, 0, 7, 4, 0, 0], [0, 0, 0, 0, 0, 0]]"
   ]
  },
  {
   "cell_type": "code",
   "execution_count": 4,
   "id": "a1fc8f29",
   "metadata": {},
   "outputs": [
    {
     "name": "stdout",
     "output_type": "stream",
     "text": [
      "Max Flow: 6 \n"
     ]
    }
   ],
   "source": [
    "g = Graph(graph)\n",
    "source = 0\n",
    "sink = 5\n",
    "\n",
    "print(\"Max Flow: %d \" % g.fordFulkerson(source, sink))"
   ]
  },
  {
   "cell_type": "markdown",
   "id": "794a4fa5",
   "metadata": {},
   "source": [
    "**Time Complexity:**\n",
    "1. *Best* O(E)\n",
    "2. *Worst* O(V^3)\n",
    "3. *Average* O(E)\n",
    "\n",
    "where:\n",
    "- V is number of vertices\n",
    "- E is number of edges\n",
    "\n",
    "**Space Complexity:** O(V)"
   ]
  }
 ],
 "metadata": {
  "kernelspec": {
   "display_name": "Python 3 (ipykernel)",
   "language": "python",
   "name": "python3"
  },
  "language_info": {
   "codemirror_mode": {
    "name": "ipython",
    "version": 3
   },
   "file_extension": ".py",
   "mimetype": "text/x-python",
   "name": "python",
   "nbconvert_exporter": "python",
   "pygments_lexer": "ipython3",
   "version": "3.8.8"
  }
 },
 "nbformat": 4,
 "nbformat_minor": 5
}
