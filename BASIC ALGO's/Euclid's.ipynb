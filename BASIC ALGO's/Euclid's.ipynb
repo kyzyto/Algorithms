{
 "cells": [
  {
   "cell_type": "markdown",
   "id": "9549b408",
   "metadata": {},
   "source": [
    "# Euclid's Algorithm"
   ]
  },
  {
   "cell_type": "code",
   "execution_count": null,
   "id": "66590def",
   "metadata": {},
   "outputs": [],
   "source": []
  },
  {
   "cell_type": "code",
   "execution_count": null,
   "id": "d648411a",
   "metadata": {},
   "outputs": [],
   "source": []
  },
  {
   "cell_type": "code",
   "execution_count": null,
   "id": "0057d781",
   "metadata": {},
   "outputs": [],
   "source": [
    "**Time Complexity:** O(E log V)\n",
    "\n",
    "**Space Complexity:** O(V)"
   ]
  }
 ],
 "metadata": {
  "kernelspec": {
   "display_name": "Python 3 (ipykernel)",
   "language": "python",
   "name": "python3"
  },
  "language_info": {
   "codemirror_mode": {
    "name": "ipython",
    "version": 3
   },
   "file_extension": ".py",
   "mimetype": "text/x-python",
   "name": "python",
   "nbconvert_exporter": "python",
   "pygments_lexer": "ipython3",
   "version": "3.8.8"
  }
 },
 "nbformat": 4,
 "nbformat_minor": 5
}
