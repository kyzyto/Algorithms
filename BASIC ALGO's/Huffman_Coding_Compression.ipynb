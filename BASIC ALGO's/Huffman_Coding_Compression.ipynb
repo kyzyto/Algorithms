{
 "cells": [
  {
   "cell_type": "markdown",
   "id": "c828dd94",
   "metadata": {},
   "source": [
    "# Huffman Coding Compression Algorithm"
   ]
  },
  {
   "cell_type": "code",
   "execution_count": null,
   "id": "a36d8e2b",
   "metadata": {},
   "outputs": [],
   "source": []
  },
  {
   "cell_type": "code",
   "execution_count": null,
   "id": "884b2fd6",
   "metadata": {},
   "outputs": [],
   "source": []
  },
  {
   "cell_type": "code",
   "execution_count": null,
   "id": "19e609a4",
   "metadata": {},
   "outputs": [],
   "source": [
    "**Time Complexity:** O(E log V)\n",
    "\n",
    "**Space Complexity:** O(V)"
   ]
  }
 ],
 "metadata": {
  "kernelspec": {
   "display_name": "Python 3 (ipykernel)",
   "language": "python",
   "name": "python3"
  },
  "language_info": {
   "codemirror_mode": {
    "name": "ipython",
    "version": 3
   },
   "file_extension": ".py",
   "mimetype": "text/x-python",
   "name": "python",
   "nbconvert_exporter": "python",
   "pygments_lexer": "ipython3",
   "version": "3.8.8"
  }
 },
 "nbformat": 4,
 "nbformat_minor": 5
}
