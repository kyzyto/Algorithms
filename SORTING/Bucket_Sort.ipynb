{
 "cells": [
  {
   "cell_type": "markdown",
   "id": "18615031",
   "metadata": {},
   "source": [
    "# Bucket Sort"
   ]
  },
  {
   "cell_type": "markdown",
   "id": "dd720456",
   "metadata": {},
   "source": [
    "```python\n",
    "bucketSort()\n",
    "  create N buckets each of which can hold a range of values\n",
    "  for all the buckets\n",
    "    initialize each bucket with 0 values\n",
    "  for all the buckets\n",
    "    put elements into buckets matching the range\n",
    "  for all the buckets \n",
    "    sort elements in each bucket\n",
    "  gather elements from each bucket\n",
    "end bucketSort\n",
    "```"
   ]
  },
  {
   "cell_type": "code",
   "execution_count": 1,
   "id": "4919024c",
   "metadata": {},
   "outputs": [],
   "source": [
    "def bucketSort(arr):\n",
    "    bucket = []\n",
    "    \n",
    "    # Create empty buckets\n",
    "    for i in range(len(arr)):\n",
    "        bucket.append([])\n",
    "    \n",
    "    # Insert elements into their respective buckets\n",
    "    for j in arr:\n",
    "        index_b = int(10 * j)\n",
    "        bucket[index_b].append(j)\n",
    "    \n",
    "    #Sort the elements of each bucket\n",
    "    for i in range(len(arr)):\n",
    "        bucket[i] = sorted(bucket[i])\n",
    "    \n",
    "    # Get the sorted elements\n",
    "    k = 0\n",
    "    for i in range(len(arr)):\n",
    "        for j in range(len(bucket[i])):\n",
    "            arr[k] = bucket[i][j]\n",
    "            k +=1\n",
    "    return arr"
   ]
  },
  {
   "cell_type": "code",
   "execution_count": 2,
   "id": "4e887813",
   "metadata": {},
   "outputs": [
    {
     "name": "stdout",
     "output_type": "stream",
     "text": [
      "[0.12, 0.16, 0.32, 0.33, 0.34, 0.37, 0.47, 0.51, 0.52, 0.62, 0.72]\n"
     ]
    }
   ],
   "source": [
    "arr = [.34, .62, .12, .16, .72, .32, .33, .52, .37, .47, .51]\n",
    "result = bucketSort(arr)\n",
    "print(result)"
   ]
  },
  {
   "cell_type": "markdown",
   "id": "87aa3540",
   "metadata": {},
   "source": [
    "**Time Complexity:** \n",
    "1. *Best* O(n+k)\n",
    "2. *Worst* O(n^2)\n",
    "3. *Average* O(n)\n",
    "\n",
    "**Space Complexity:** O(n+k)"
   ]
  }
 ],
 "metadata": {
  "kernelspec": {
   "display_name": "Python 3 (ipykernel)",
   "language": "python",
   "name": "python3"
  },
  "language_info": {
   "codemirror_mode": {
    "name": "ipython",
    "version": 3
   },
   "file_extension": ".py",
   "mimetype": "text/x-python",
   "name": "python",
   "nbconvert_exporter": "python",
   "pygments_lexer": "ipython3",
   "version": "3.8.8"
  }
 },
 "nbformat": 4,
 "nbformat_minor": 5
}
