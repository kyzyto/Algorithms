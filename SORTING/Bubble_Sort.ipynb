{
 "cells": [
  {
   "cell_type": "markdown",
   "id": "83405335",
   "metadata": {},
   "source": [
    "# Bubble Sort\n",
    "```python\n",
    "bubbleSort(array)\n",
    "  for i <- 1 to indexOfLastUnsortedElement-1\n",
    "    if leftElement > rightElement\n",
    "      swap leftElement and rightElement\n",
    "end bubbleSort\n",
    "```"
   ]
  },
  {
   "cell_type": "code",
   "execution_count": 1,
   "id": "f2ab7875",
   "metadata": {},
   "outputs": [],
   "source": [
    "def bubbleSort(arr):\n",
    "    # loop to access each array element\n",
    "    #    hence loop through length of array\n",
    "    for i in range(len(arr)):\n",
    "        \n",
    "        #loop to compare array elements\n",
    "        for j in range(0, len(arr) - i - 1):\n",
    "            \n",
    "            #compare two adjacent elements\n",
    "            #change > to < to sort in descending order\n",
    "            \n",
    "            if arr[j] > arr[j + 1]:\n",
    "                #Swap\n",
    "                temp = arr[j]\n",
    "                arr[j] = arr[j + 1]\n",
    "                arr[j + 1] = temp"
   ]
  },
  {
   "cell_type": "code",
   "execution_count": 2,
   "id": "166b6054",
   "metadata": {},
   "outputs": [],
   "source": [
    "arr = [-2, -5, 4, 4, 2, -3]"
   ]
  },
  {
   "cell_type": "code",
   "execution_count": 3,
   "id": "dab477c1",
   "metadata": {},
   "outputs": [
    {
     "name": "stdout",
     "output_type": "stream",
     "text": [
      "[-5, -3, -2, 2, 4, 4]\n"
     ]
    }
   ],
   "source": [
    "bubbleSort(arr)\n",
    "print(arr)"
   ]
  },
  {
   "cell_type": "markdown",
   "id": "4db3c3c4",
   "metadata": {},
   "source": [
    "**Time Complexity:**\n",
    "1. *Best* O(n)\n",
    "2. *Worst* O(n^2)\n",
    "3. *Average* O(n^2)\n",
    "\n",
    "**Space Complexity:** O(1)"
   ]
  }
 ],
 "metadata": {
  "kernelspec": {
   "display_name": "Python 3 (ipykernel)",
   "language": "python",
   "name": "python3"
  },
  "language_info": {
   "codemirror_mode": {
    "name": "ipython",
    "version": 3
   },
   "file_extension": ".py",
   "mimetype": "text/x-python",
   "name": "python",
   "nbconvert_exporter": "python",
   "pygments_lexer": "ipython3",
   "version": "3.8.8"
  }
 },
 "nbformat": 4,
 "nbformat_minor": 5
}
