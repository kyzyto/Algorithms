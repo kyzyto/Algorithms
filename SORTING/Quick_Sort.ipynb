{
 "cells": [
  {
   "cell_type": "markdown",
   "id": "e5ffe7e5",
   "metadata": {},
   "source": [
    "# Quick Sort\n",
    "\n",
    "**Algorithm**\n",
    "```python\n",
    "quickSort(array, leftmostIndex, rightmostIndex)\n",
    "  if (leftmostIndex < rightmostIndex)\n",
    "    pivotIndex <- partition(array,leftmostIndex, rightmostIndex)\n",
    "    quickSort(array, leftmostIndex, pivotIndex - 1)\n",
    "    quickSort(array, pivotIndex, rightmostIndex)\n",
    "\n",
    "partition(array, leftmostIndex, rightmostIndex)\n",
    "  set rightmostIndex as pivotIndex\n",
    "  storeIndex <- leftmostIndex - 1\n",
    "  for i <- leftmostIndex + 1 to rightmostIndex\n",
    "  if element[i] < pivotElement\n",
    "    swap element[i] and element[storeIndex]\n",
    "    storeIndex++\n",
    "  swap pivotElement and element[storeIndex+1]\n",
    "return storeIndex + 1\n",
    "```"
   ]
  },
  {
   "cell_type": "code",
   "execution_count": 1,
   "id": "d8619da1",
   "metadata": {},
   "outputs": [],
   "source": [
    "# use a function to find the partition\n",
    "def partition(arr, low, high):\n",
    "    # choose the rightmost element as pivot\n",
    "    pivot = arr[high]\n",
    "    \n",
    "    #pointer for greater element\n",
    "    i = low - 1\n",
    "    \n",
    "    #tranverse through all elements and compare each element with pivot\n",
    "    for j in range(low, high):\n",
    "        if arr[j] <= pivot:\n",
    "            \n",
    "            i = i + 1\n",
    "            arr[i], arr[j] = arr[j], arr[i]\n",
    "        arr[i + 1], arr[high] = arr[high], arr[i + 1]\n",
    "        return i + 1"
   ]
  },
  {
   "cell_type": "code",
   "execution_count": 2,
   "id": "c6f961be",
   "metadata": {},
   "outputs": [],
   "source": [
    "def quickSort(array, low, high):    \n",
    "    if low < high:\n",
    "        \n",
    "        #find pivot element such that element smaller than pivot are on the left\n",
    "        #element greater than pivot are on the right\n",
    "        pi = partition(arr, low, high)\n",
    "        \n",
    "        #recursively call on the left of pivot\n",
    "        quickSort(arr, low, pi - 1)\n",
    "        \n",
    "        #recursively call on the right of pivot\n",
    "        quickSort(arr, pi + 1, high)\n",
    "    "
   ]
  },
  {
   "cell_type": "code",
   "execution_count": 3,
   "id": "b39db5b7",
   "metadata": {},
   "outputs": [],
   "source": [
    "arr = [2, 5, 5, 1, 15, 14, 21, 62, 42]\n",
    "low = 0\n",
    "high = len(arr) - 1\n",
    "result = quickSort(arr, low, high)\n",
    "sorted_arr = []"
   ]
  },
  {
   "cell_type": "code",
   "execution_count": 4,
   "id": "31475aa1",
   "metadata": {},
   "outputs": [
    {
     "name": "stdout",
     "output_type": "stream",
     "text": [
      "[2]\n",
      "[2, 42]\n",
      "[2, 42, 5]\n",
      "[2, 42, 5, 5]\n",
      "[2, 42, 5, 5, 1]\n",
      "[2, 42, 5, 5, 1, 14]\n",
      "[2, 42, 5, 5, 1, 14, 15]\n",
      "[2, 42, 5, 5, 1, 14, 15, 21]\n",
      "[2, 42, 5, 5, 1, 14, 15, 21, 62]\n"
     ]
    }
   ],
   "source": [
    "for i in range(len(arr)):\n",
    "    sorted_arr.append(arr[i])\n",
    "    print(sorted_arr)"
   ]
  },
  {
   "cell_type": "markdown",
   "id": "9694a1a0",
   "metadata": {},
   "source": [
    "**Time Complexity:** O(n*log n)\n",
    "\n",
    "**Space Complexity:** O(log n) "
   ]
  }
 ],
 "metadata": {
  "kernelspec": {
   "display_name": "Python 3 (ipykernel)",
   "language": "python",
   "name": "python3"
  },
  "language_info": {
   "codemirror_mode": {
    "name": "ipython",
    "version": 3
   },
   "file_extension": ".py",
   "mimetype": "text/x-python",
   "name": "python",
   "nbconvert_exporter": "python",
   "pygments_lexer": "ipython3",
   "version": "3.8.8"
  }
 },
 "nbformat": 4,
 "nbformat_minor": 5
}
