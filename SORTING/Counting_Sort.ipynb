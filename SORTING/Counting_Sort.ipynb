{
 "cells": [
  {
   "cell_type": "markdown",
   "id": "2859daf0",
   "metadata": {},
   "source": [
    "# Counting Sort"
   ]
  },
  {
   "cell_type": "markdown",
   "id": "0919e25a",
   "metadata": {},
   "source": [
    "Counting Sort for numbers"
   ]
  },
  {
   "cell_type": "code",
   "execution_count": 1,
   "id": "c4e87ba4",
   "metadata": {},
   "outputs": [],
   "source": [
    "def countingSort_numbers(arr):\n",
    "    max_element = int(max(arr))\n",
    "    min_element = int(min(arr))\n",
    "    range_of_elements = max_element - min_element + 1\n",
    "    \n",
    "    #count array to store count of individual elements and initialize count array as 0\n",
    "    count_arr = [0 for _ in range(range_of_elements)]\n",
    "    output_arr = [0 for _ in range(len(arr))]\n",
    "    \n",
    "    #store count array store count of individual elements and initialize count array as 0\n",
    "    for i in range(0, len(arr)):\n",
    "        count_arr[arr[i]-min_element] += 1\n",
    "        \n",
    "    #change count_arr[i] so that count_arr[i] now contains actual position of this element in output array\n",
    "    for i in range(1, len(count_arr)):\n",
    "        count_arr[i] += count_arr[i - 1]\n",
    "    \n",
    "    #build the output character array\n",
    "    for i in range(len(arr)-1, -1, -1):\n",
    "        output_arr[count_arr[arr[i] - min_element] - 1] = arr[i]\n",
    "        count_arr[arr[i] - min_element] -= 1\n",
    "    \n",
    "    #copy the output array to arr, so that arr now contains sorted character\n",
    "    for i in range(0, len(arr)):\n",
    "        arr[i] = output_arr[i]\n",
    "    return arr"
   ]
  },
  {
   "cell_type": "markdown",
   "id": "c52894fb",
   "metadata": {},
   "source": [
    "Counting Sort for alphabets"
   ]
  },
  {
   "cell_type": "code",
   "execution_count": 2,
   "id": "07a4b0e0",
   "metadata": {},
   "outputs": [],
   "source": [
    "def countingSort_alphabets(arr):\n",
    "    \n",
    "    #output character array will have sorted arr\n",
    "    output = [0 for i in range(len(arr))]\n",
    "    \n",
    "    #count array to store count of individual characters and initialize count array as 0\n",
    "    count = [0 for i in range(256)]\n",
    "    \n",
    "    #store result since string is immutable\n",
    "    ans = [\"\" for _ in arr]\n",
    "    \n",
    "    #store count of each character\n",
    "    for i in arr:\n",
    "        count[ord(i)] += 1\n",
    "    \n",
    "    #change count[i] so that count[i] now contains actual position of this character in the output array\n",
    "    for i in range(256):\n",
    "        count[i] += count[i-1]\n",
    "    \n",
    "    #build the output character array\n",
    "    for i in range(len(arr)):\n",
    "        output[count[ord(arr[i])] - 1] = arr[i]\n",
    "        count[ord(arr[i])] -= 1\n",
    "        \n",
    "    #copy the output array to arr, so that arr now contains sorted characters\n",
    "    for i in range(len(arr)):\n",
    "        ans[i] = output[i]\n",
    "    return ans"
   ]
  },
  {
   "cell_type": "code",
   "execution_count": 3,
   "id": "666d6537",
   "metadata": {},
   "outputs": [],
   "source": [
    "arr1 = \"badbodythings\"\n",
    "arr2 = [-1, -4, 5, 6, 0, -6, 3, 6, 13]"
   ]
  },
  {
   "cell_type": "code",
   "execution_count": 4,
   "id": "96b67dd3",
   "metadata": {},
   "outputs": [
    {
     "data": {
      "text/plain": [
       "['a', 'b', 'b', 'd', 'd', 'g', 'h', 'i', 'n', 'o', 's', 't', 'y']"
      ]
     },
     "execution_count": 4,
     "metadata": {},
     "output_type": "execute_result"
    }
   ],
   "source": [
    "result = countingSort_alphabets(arr1)\n",
    "result"
   ]
  },
  {
   "cell_type": "code",
   "execution_count": 5,
   "id": "efabf362",
   "metadata": {},
   "outputs": [
    {
     "data": {
      "text/plain": [
       "[-6, -4, -1, 0, 3, 5, 6, 6, 13]"
      ]
     },
     "execution_count": 5,
     "metadata": {},
     "output_type": "execute_result"
    }
   ],
   "source": [
    "result2 = countingSort_numbers(arr2)\n",
    "result2"
   ]
  },
  {
   "cell_type": "code",
   "execution_count": 7,
   "id": "c7066be0",
   "metadata": {},
   "outputs": [
    {
     "name": "stdout",
     "output_type": "stream",
     "text": [
      "Sorted character array is abbddghinosty\n",
      "Sorted character array is ['a', 'b', 'b', 'd', 'd', 'g', 'h', 'i', 'n', 'o', 's', 't', 'y']\n",
      "Sorted numbers array is [-6, -4, -1, 0, 3, 5, 6, 6, 13]\n"
     ]
    }
   ],
   "source": [
    "print(\"Sorted character array is % s\" %(\"\".join(result)))\n",
    "print(\"Sorted character array is % s\" % str(result))\n",
    "print(\"Sorted numbers array is % s\" % str(result2))"
   ]
  },
  {
   "cell_type": "markdown",
   "id": "40023ead",
   "metadata": {},
   "source": [
    "**Time Complexity:** O(n+k)\n",
    "where n is the number of elements and k is the range of the elements\n",
    "\n",
    "**Space Complexity:** O(n+k)"
   ]
  }
 ],
 "metadata": {
  "kernelspec": {
   "display_name": "Python 3 (ipykernel)",
   "language": "python",
   "name": "python3"
  },
  "language_info": {
   "codemirror_mode": {
    "name": "ipython",
    "version": 3
   },
   "file_extension": ".py",
   "mimetype": "text/x-python",
   "name": "python",
   "nbconvert_exporter": "python",
   "pygments_lexer": "ipython3",
   "version": "3.8.8"
  }
 },
 "nbformat": 4,
 "nbformat_minor": 5
}
