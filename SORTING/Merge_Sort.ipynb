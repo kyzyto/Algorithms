{
 "cells": [
  {
   "cell_type": "markdown",
   "id": "c30ffc0f",
   "metadata": {},
   "source": [
    "# Merge Sort\n",
    "\n",
    "Similar to **Quick Sort**, Merge Sort is a kind of Divide and Conquer algorithm<br>"
   ]
  },
  {
   "cell_type": "code",
   "execution_count": 1,
   "id": "ded698fe",
   "metadata": {},
   "outputs": [],
   "source": [
    "def mergeSort(arr):\n",
    "    if len(arr) > 1:\n",
    "        #find the middle of the array\n",
    "        mid = len(arr) // 2\n",
    "        \n",
    "        #divide the array into two halves\n",
    "        #allocate the left half\n",
    "        L = arr[:mid]\n",
    "        \n",
    "        #allocate the right half\n",
    "        R = arr[mid:]\n",
    "        \n",
    "        #recursively sort the left or first half\n",
    "        mergeSort(L)\n",
    "        \n",
    "        #recursively sort the right or last half\n",
    "        mergeSort(R)\n",
    "        \n",
    "        i = j = k = 0\n",
    "        \n",
    "        while i < len(L) and j < len(R):\n",
    "            if L[i] < R[j]:\n",
    "                arr[k] = L[i]\n",
    "                i += 1\n",
    "            else:\n",
    "                arr[k] = R[j]\n",
    "                j += 1\n",
    "            k += 1\n",
    "            \n",
    "        while i < len(L):\n",
    "            arr[k] = L[i]\n",
    "            i += 1\n",
    "            k += 1\n",
    "            \n",
    "        while j < len(R):\n",
    "            arr[k] = R[j]\n",
    "            j += 1\n",
    "            k += 1"
   ]
  },
  {
   "cell_type": "code",
   "execution_count": 2,
   "id": "8e8472fe",
   "metadata": {},
   "outputs": [],
   "source": [
    "arr = [12, 3, 4, 5, 15, 23, 1]"
   ]
  },
  {
   "cell_type": "code",
   "execution_count": 3,
   "id": "95447909",
   "metadata": {},
   "outputs": [],
   "source": [
    "result = mergeSort(arr)"
   ]
  },
  {
   "cell_type": "code",
   "execution_count": 4,
   "id": "27480208",
   "metadata": {},
   "outputs": [
    {
     "name": "stdout",
     "output_type": "stream",
     "text": [
      "[1]\n",
      "[1, 3]\n",
      "[1, 3, 4]\n",
      "[1, 3, 4, 5]\n",
      "[1, 3, 4, 5, 12]\n",
      "[1, 3, 4, 5, 12, 15]\n",
      "[1, 3, 4, 5, 12, 15, 23]\n"
     ]
    }
   ],
   "source": [
    "sorted_arr = []\n",
    "for i in range(len(arr)):\n",
    "    sorted_arr.append(arr[i])\n",
    "    print(sorted_arr)"
   ]
  },
  {
   "cell_type": "markdown",
   "id": "5fd2d006",
   "metadata": {},
   "source": [
    "**Time Complexity:**\n",
    "\n",
    "**Space Complexity:** "
   ]
  }
 ],
 "metadata": {
  "kernelspec": {
   "display_name": "Python 3 (ipykernel)",
   "language": "python",
   "name": "python3"
  },
  "language_info": {
   "codemirror_mode": {
    "name": "ipython",
    "version": 3
   },
   "file_extension": ".py",
   "mimetype": "text/x-python",
   "name": "python",
   "nbconvert_exporter": "python",
   "pygments_lexer": "ipython3",
   "version": "3.8.8"
  }
 },
 "nbformat": 4,
 "nbformat_minor": 5
}
