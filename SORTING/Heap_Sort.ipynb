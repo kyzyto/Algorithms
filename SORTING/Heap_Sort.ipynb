{
 "cells": [
  {
   "cell_type": "markdown",
   "id": "dfca10c1",
   "metadata": {},
   "source": [
    "# Heap Sort"
   ]
  },
  {
   "cell_type": "code",
   "execution_count": null,
   "id": "fc40f1a5",
   "metadata": {},
   "outputs": [],
   "source": [
    "def heapify(arr, n, i):\n",
    "    largest = i #identify largest root\n",
    "    l = 2 * i + 1\n",
    "    r = 2 * i + 2\n",
    "    \n",
    "    #check if the left child of root exists and is greater than root\n",
    "    #if l is less than len(arr) and element at i less than element at l1\n",
    "    if l < n and arr[i] < arr[l]:\n",
    "        largest = l\n",
    "        \n",
    "    #check if the right child of root exist and is greater than root\n",
    "    if r < n and arr[largest] < arr[r]:\n",
    "        largest = r\n",
    "    \n",
    "    #Change root, if needed\n",
    "    if largest != i:\n",
    "        arr[i],arr[largest] = arr[largest],arr[i]\n",
    "        \n",
    "        # Heapify the root.\n",
    "        heapify(arr, n, largest)\n",
    "        \n",
    "        \n",
    "def heapSort(arr):\n",
    "    n = len(arr)\n",
    "    \n",
    "    #build maxheap\n",
    "    #since last parent will be at ((n//2) - 1) we can start at that location\n",
    "    for i in range(n // 2 - 1, -1, -1): #range(start,end,skipper(i.e. incrementer or decrementer))\n",
    "        heapify(arr, n, i)\n",
    "    \n",
    "    #extract element one by one\n",
    "    for i in range(n-1, 0, -1):\n",
    "        arr[i], arr[0] = arr[0], arr[i]\n",
    "        heapify(arr, i, 0)"
   ]
  },
  {
   "cell_type": "code",
   "execution_count": null,
   "id": "9f436b51",
   "metadata": {},
   "outputs": [],
   "source": [
    "arr = [12, 3, 15, 13, 4, 6]\n",
    "heapSort(arr)"
   ]
  },
  {
   "cell_type": "code",
   "execution_count": null,
   "id": "addc173d",
   "metadata": {},
   "outputs": [],
   "source": [
    "n = len(arr)\n",
    "print(\"Sorted array is\")\n",
    "for i in range(n):\n",
    "    print(\"%d\" %arr[i], end=' ')"
   ]
  },
  {
   "cell_type": "markdown",
   "id": "7d5eaebe",
   "metadata": {},
   "source": [
    "**Time Complexity:** O(nlog n)\n",
    "\n",
    "**Space Complexity:** O(1) "
   ]
  }
 ],
 "metadata": {
  "kernelspec": {
   "display_name": "Python 3 (ipykernel)",
   "language": "python",
   "name": "python3"
  },
  "language_info": {
   "codemirror_mode": {
    "name": "ipython",
    "version": 3
   },
   "file_extension": ".py",
   "mimetype": "text/x-python",
   "name": "python",
   "nbconvert_exporter": "python",
   "pygments_lexer": "ipython3",
   "version": "3.8.8"
  }
 },
 "nbformat": 4,
 "nbformat_minor": 5
}
