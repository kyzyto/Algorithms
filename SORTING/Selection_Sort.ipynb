{
 "cells": [
  {
   "cell_type": "markdown",
   "id": "95a98494",
   "metadata": {},
   "source": [
    "# Selection Sort"
   ]
  },
  {
   "cell_type": "code",
   "execution_count": 1,
   "id": "c87ad508",
   "metadata": {},
   "outputs": [],
   "source": [
    "def selectionSort(arr):\n",
    "    \n",
    "    #tranverse through all array elements\n",
    "    for i in range(len(arr)):\n",
    "        \n",
    "        #find the minimum element in remaining unsorted array\n",
    "        min_index = i\n",
    "\n",
    "        for j in range(i + 1, len(arr)):\n",
    "            if arr[min_index] > arr[j]:\n",
    "                min_index = j\n",
    "        \n",
    "        #swap the found minimum element with the first element\n",
    "        arr[i],arr[min_index] = arr[min_index], arr[i]"
   ]
  },
  {
   "cell_type": "code",
   "execution_count": 2,
   "id": "5d813cd7",
   "metadata": {},
   "outputs": [],
   "source": [
    "arr = [78, 49, 13, 5, 52]\n",
    "selectionSort(arr)"
   ]
  },
  {
   "cell_type": "code",
   "execution_count": 3,
   "id": "e49f07e7",
   "metadata": {},
   "outputs": [
    {
     "name": "stdout",
     "output_type": "stream",
     "text": [
      "Sorted array: [5,13,49,52,78]\n"
     ]
    }
   ],
   "source": [
    "print(\"Sorted array: \", end='[')\n",
    "\n",
    "for i in range(len(arr)):\n",
    "    if arr[i] != arr[len(arr) -1]:\n",
    "        print(\"%d\" % arr[i], end=',')\n",
    "    else:\n",
    "        print(\"%d]\" % arr[i])"
   ]
  },
  {
   "cell_type": "code",
   "execution_count": 4,
   "id": "df5e1653",
   "metadata": {},
   "outputs": [
    {
     "name": "stdout",
     "output_type": "stream",
     "text": [
      "[5]\n",
      "[5, 13]\n",
      "[5, 13, 49]\n",
      "[5, 13, 49, 52]\n",
      "[5, 13, 49, 52, 78]\n"
     ]
    }
   ],
   "source": [
    "sorted_arr =[]\n",
    "for i in range(len(arr)):\n",
    "    sorted_arr.append(arr[i])\n",
    "    print(sorted_arr)"
   ]
  },
  {
   "cell_type": "markdown",
   "id": "ec369575",
   "metadata": {},
   "source": [
    "**Time Complexity:** O(n^2)\n",
    "\n",
    "**Space Complexity:** O(1) "
   ]
  }
 ],
 "metadata": {
  "kernelspec": {
   "display_name": "Python 3 (ipykernel)",
   "language": "python",
   "name": "python3"
  },
  "language_info": {
   "codemirror_mode": {
    "name": "ipython",
    "version": 3
   },
   "file_extension": ".py",
   "mimetype": "text/x-python",
   "name": "python",
   "nbconvert_exporter": "python",
   "pygments_lexer": "ipython3",
   "version": "3.8.8"
  }
 },
 "nbformat": 4,
 "nbformat_minor": 5
}
