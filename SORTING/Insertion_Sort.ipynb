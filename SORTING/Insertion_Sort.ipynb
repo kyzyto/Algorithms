{
 "cells": [
  {
   "cell_type": "markdown",
   "id": "110e0a51",
   "metadata": {},
   "source": [
    "# Insertion Sort"
   ]
  },
  {
   "cell_type": "markdown",
   "id": "fde4423b",
   "metadata": {},
   "source": [
    "**Algorithm** \n",
    "To sort an array of size n in ascending order:<br> \n",
    "1. Iterate from arr[1] to arr[n] over the array.<br> \n",
    "2. Compare the current element (key) to its predecessor. \n",
    "3. If the key element is smaller than its predecessor, compare it to the elements before. Move the greater elements one position up to make space for the swapped element."
   ]
  },
  {
   "cell_type": "code",
   "execution_count": 10,
   "id": "dec308bf",
   "metadata": {},
   "outputs": [],
   "source": [
    "def insertionSort(arr):\n",
    "    #tranverse through 1 to len(arr)\n",
    "    for i in range(1, len(arr)):\n",
    "        #key is a value in array\n",
    "        key = arr[i]\n",
    "        \n",
    "        j = i-1\n",
    "        \n",
    "        #move from element arr[0] to arr[i-1]\n",
    "        while j >= 0 and key < arr[j]:\n",
    "            arr[j + 1] = arr[j]\n",
    "            j -= 1\n",
    "        arr[j + 1] = key\n"
   ]
  },
  {
   "cell_type": "code",
   "execution_count": 11,
   "id": "014bebb8",
   "metadata": {},
   "outputs": [],
   "source": [
    "arr = [12, 4, 6, 2, 19, 5, 7]"
   ]
  },
  {
   "cell_type": "code",
   "execution_count": 12,
   "id": "64401d1b",
   "metadata": {},
   "outputs": [],
   "source": [
    "result = insertionSort(arr)"
   ]
  },
  {
   "cell_type": "code",
   "execution_count": 14,
   "id": "5dfa5f69",
   "metadata": {},
   "outputs": [
    {
     "name": "stdout",
     "output_type": "stream",
     "text": [
      "[2]\n",
      "[2, 4]\n",
      "[2, 4, 5]\n",
      "[2, 4, 5, 6]\n",
      "[2, 4, 5, 6, 7]\n",
      "[2, 4, 5, 6, 7, 12]\n",
      "[2, 4, 5, 6, 7, 12, 19]\n"
     ]
    }
   ],
   "source": [
    "sorted_arr = []\n",
    "for i in range(len(arr)):\n",
    "    sorted_arr.append(arr[i])\n",
    "    print(sorted_arr)"
   ]
  },
  {
   "cell_type": "markdown",
   "id": "f27f90d7",
   "metadata": {},
   "source": [
    "**Time Complexity:** O(n^2)\n",
    "\n",
    "**Space Complexity:** O(1)"
   ]
  }
 ],
 "metadata": {
  "kernelspec": {
   "display_name": "Python 3 (ipykernel)",
   "language": "python",
   "name": "python3"
  },
  "language_info": {
   "codemirror_mode": {
    "name": "ipython",
    "version": 3
   },
   "file_extension": ".py",
   "mimetype": "text/x-python",
   "name": "python",
   "nbconvert_exporter": "python",
   "pygments_lexer": "ipython3",
   "version": "3.8.8"
  }
 },
 "nbformat": 4,
 "nbformat_minor": 5
}
