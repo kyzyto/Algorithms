{
 "cells": [
  {
   "cell_type": "markdown",
   "id": "c0e93aea",
   "metadata": {},
   "source": [
    "# Radix Sort\n",
    "```python\n",
    "radixSort(array)\n",
    "  d <- maximum number of digits in the largest element\n",
    "  create d buckets of size 0-9\n",
    "  for i <- 0 to d\n",
    "    sort the elements according to ith place digits using countingSort\n",
    "\n",
    "countingSort(array, d)\n",
    "  max <- find largest element among dth place elements\n",
    "  initialize count array with all zeros\n",
    "  for j <- 0 to size\n",
    "    find the total count of each unique digit in dth place of elements and\n",
    "    store the count at jth index in count array\n",
    "  for i <- 1 to max\n",
    "    find the cumulative sum and store it in count array itself\n",
    "  for j <- size down to 1\n",
    "    restore the elements to array\n",
    "    decrease count of each element restored by 1\n",
    "```"
   ]
  },
  {
   "cell_type": "code",
   "execution_count": 1,
   "id": "85848e8e",
   "metadata": {},
   "outputs": [],
   "source": [
    "# Sort the elements in the basis of significant places using counting sort\n",
    "def countingSort(arr, place):\n",
    "    size = len(arr)\n",
    "    output = [0] * size\n",
    "    count = [0] * 10\n",
    "    \n",
    "    #calculate count of elements\n",
    "    for i in range(0, size):\n",
    "        index = arr[i] // place\n",
    "        count[index % 10] += 1\n",
    "        \n",
    "    #calculate cummulative count\n",
    "    for i in range(1, 10):\n",
    "        count[i] += count[i - 1]\n",
    "    \n",
    "    #place the elements in stored order\n",
    "    i = size - 1\n",
    "    while i >= 0:\n",
    "        index = arr[i] // place\n",
    "        output[count[index % 10] - 1] = arr[i]\n",
    "        count[index % 10] -= 1\n",
    "        i -= 1\n",
    "    \n",
    "    for i in range(0, size):\n",
    "        arr[i] = output[i]"
   ]
  },
  {
   "cell_type": "code",
   "execution_count": 2,
   "id": "7bb057ef",
   "metadata": {},
   "outputs": [],
   "source": [
    "def radixSort(arr):\n",
    "    #get maximum element\n",
    "    max_element = max(arr)\n",
    "    \n",
    "    #apply counting sort to sort elements based on place value\n",
    "    place = 1\n",
    "    while max_element // place > 0:\n",
    "        countingSort(arr, place)\n",
    "        place *= 10"
   ]
  },
  {
   "cell_type": "code",
   "execution_count": 3,
   "id": "5af0e359",
   "metadata": {},
   "outputs": [
    {
     "name": "stdout",
     "output_type": "stream",
     "text": [
      "[2, 34, 121, 142, 152, 432, 643]\n"
     ]
    }
   ],
   "source": [
    "arr = [121, 142, 152, 643, 432, 34, 2]\n",
    "radixSort(arr)\n",
    "print(arr)"
   ]
  },
  {
   "cell_type": "markdown",
   "id": "ce76f3df",
   "metadata": {},
   "source": [
    "**Time Complexity:** O(d(n+k))\n",
    "d :- number of cycles\n",
    "n :- \n",
    "k :- \n",
    "\n",
    "**Space Complexity:** O(max)"
   ]
  }
 ],
 "metadata": {
  "kernelspec": {
   "display_name": "Python 3 (ipykernel)",
   "language": "python",
   "name": "python3"
  },
  "language_info": {
   "codemirror_mode": {
    "name": "ipython",
    "version": 3
   },
   "file_extension": ".py",
   "mimetype": "text/x-python",
   "name": "python",
   "nbconvert_exporter": "python",
   "pygments_lexer": "ipython3",
   "version": "3.8.8"
  }
 },
 "nbformat": 4,
 "nbformat_minor": 5
}
